{
 "cells": [
  {
   "cell_type": "markdown",
   "metadata": {
    "id": "b8sWwUpOjAnD"
   },
   "source": [
    "# Data Cleaning and Preprocessing"
   ]
  },
  {
   "cell_type": "code",
   "execution_count": 19,
   "metadata": {
    "id": "r_UOtvL-jAnF"
   },
   "outputs": [],
   "source": [
    "import pandas as pd\n",
    "import matplotlib.pyplot as plt\n",
    "import numpy as np\n",
    "\n",
    "pd.options.mode.chained_assignment = None"
   ]
  },
  {
   "cell_type": "markdown",
   "metadata": {},
   "source": [
    "Load and drop unnecessary attribute, e.g., `Filming_Location`"
   ]
  },
  {
   "cell_type": "code",
   "execution_count": 20,
   "metadata": {
    "colab": {
     "base_uri": "https://localhost:8080/",
     "height": 214
    },
    "id": "viREz1IfjAnH",
    "outputId": "49989aad-68df-4fb6-be53-f49fcf091e39"
   },
   "outputs": [
    {
     "data": {
      "text/html": [
       "<div>\n",
       "<style scoped>\n",
       "    .dataframe tbody tr th:only-of-type {\n",
       "        vertical-align: middle;\n",
       "    }\n",
       "\n",
       "    .dataframe tbody tr th {\n",
       "        vertical-align: top;\n",
       "    }\n",
       "\n",
       "    .dataframe thead th {\n",
       "        text-align: right;\n",
       "    }\n",
       "</style>\n",
       "<table border=\"1\" class=\"dataframe\">\n",
       "  <thead>\n",
       "    <tr style=\"text-align: right;\">\n",
       "      <th></th>\n",
       "      <th>Movie_Title</th>\n",
       "      <th>Movie_ID</th>\n",
       "      <th>Budget</th>\n",
       "      <th>Cast</th>\n",
       "      <th>Crew</th>\n",
       "      <th>Studios</th>\n",
       "      <th>Genre</th>\n",
       "      <th>Keywords</th>\n",
       "      <th>Languages</th>\n",
       "      <th>Countries</th>\n",
       "      <th>Release_Data</th>\n",
       "      <th>Runtime</th>\n",
       "      <th>Gross_worldwide</th>\n",
       "      <th>Rating</th>\n",
       "      <th>Rating_Count</th>\n",
       "      <th>ListOfCertificate</th>\n",
       "    </tr>\n",
       "  </thead>\n",
       "  <tbody>\n",
       "    <tr>\n",
       "      <th>0</th>\n",
       "      <td>Jumanji: Welcome to the Jungle</td>\n",
       "      <td>2283362</td>\n",
       "      <td>$90,000,000</td>\n",
       "      <td>Dwayne Johnson,Karen Gillan,Kevin Hart,Jack Bl...</td>\n",
       "      <td>Scott Rosenberg,Erik Sommers,Chris McKenna,Jak...</td>\n",
       "      <td>Columbia Pictures,Matt Tolmach Productions,Rad...</td>\n",
       "      <td>Action,Adventure,Comedy</td>\n",
       "      <td>jungle,adventurer,trapped in a game,action her...</td>\n",
       "      <td>English</td>\n",
       "      <td>United States</td>\n",
       "      <td>2017-12-20</td>\n",
       "      <td>1 hour 59 minutes</td>\n",
       "      <td>$995,339,117</td>\n",
       "      <td>6.9</td>\n",
       "      <td>389K</td>\n",
       "      <td>PG-13</td>\n",
       "    </tr>\n",
       "    <tr>\n",
       "      <th>1</th>\n",
       "      <td>Transformers: Revenge of the Fallen</td>\n",
       "      <td>1055369</td>\n",
       "      <td>$200,000,000</td>\n",
       "      <td>Shia LaBeouf,Megan Fox,Josh Duhamel,Tyrese Gib...</td>\n",
       "      <td>Ehren Kruger,Michael Bay,Roberto Orci,Alex Kur...</td>\n",
       "      <td>Dreamworks Pictures,Paramount Pictures,Tom DeS...</td>\n",
       "      <td>Action,Adventure,Sci-Fi</td>\n",
       "      <td>optimus prime character,megatron character,toa...</td>\n",
       "      <td>English,Spanish</td>\n",
       "      <td>United States</td>\n",
       "      <td>2009-06-24</td>\n",
       "      <td>2 hours 29 minutes</td>\n",
       "      <td>$836,303,693</td>\n",
       "      <td>5.9</td>\n",
       "      <td>412K</td>\n",
       "      <td>PG-13</td>\n",
       "    </tr>\n",
       "    <tr>\n",
       "      <th>2</th>\n",
       "      <td>Star Wars: Episode VII - The Force Awakens</td>\n",
       "      <td>2488496</td>\n",
       "      <td>$245,000,000</td>\n",
       "      <td>Daisy Ridley,John Boyega,Oscar Isaac,Domhnall ...</td>\n",
       "      <td>J.J. Abrams,Michael Arndt,Lawrence Kasdan</td>\n",
       "      <td>Lucasfilm,Bad Robot,Walt Disney Pictures</td>\n",
       "      <td>Action,Adventure,Sci-Fi</td>\n",
       "      <td>crash landing,reboot,actor reprises previous r...</td>\n",
       "      <td>English</td>\n",
       "      <td>United States</td>\n",
       "      <td>2015-12-18</td>\n",
       "      <td>2 hours 18 minutes</td>\n",
       "      <td>$2,071,310,218</td>\n",
       "      <td>7.8</td>\n",
       "      <td>939K</td>\n",
       "      <td>PG-13</td>\n",
       "    </tr>\n",
       "    <tr>\n",
       "      <th>3</th>\n",
       "      <td>Spider-Man</td>\n",
       "      <td>145487</td>\n",
       "      <td>$139,000,000</td>\n",
       "      <td>Tobey Maguire,Kirsten Dunst,Willem Dafoe,James...</td>\n",
       "      <td>Sam Raimi,David Koepp,Stan Lee,Steve Ditko</td>\n",
       "      <td>Columbia Pictures,Marvel Enterprises,Laura Zis...</td>\n",
       "      <td>Action,Adventure,Sci-Fi</td>\n",
       "      <td>superhero,peter parker character,ben parker ch...</td>\n",
       "      <td>English</td>\n",
       "      <td>United States</td>\n",
       "      <td>2002-05-03</td>\n",
       "      <td>2 hours 1 minute</td>\n",
       "      <td>$825,025,036</td>\n",
       "      <td>7.4</td>\n",
       "      <td>827K</td>\n",
       "      <td>PG-13</td>\n",
       "    </tr>\n",
       "    <tr>\n",
       "      <th>4</th>\n",
       "      <td>Iron Man Three</td>\n",
       "      <td>1300854</td>\n",
       "      <td>$200,000,000</td>\n",
       "      <td>Robert Downey Jr.,Guy Pearce,Gwyneth Paltrow,D...</td>\n",
       "      <td>Drew Pearce,Stan Lee,Shane Black</td>\n",
       "      <td>Marvel Studios,Paramount Pictures,DMG Entertai...</td>\n",
       "      <td>Action,Adventure,Sci-Fi</td>\n",
       "      <td>terrorist,billionaire,human bomb,armor,rescue</td>\n",
       "      <td>English</td>\n",
       "      <td>United States</td>\n",
       "      <td>2013-05-03</td>\n",
       "      <td>2 hours 10 minutes</td>\n",
       "      <td>$1,215,577,205</td>\n",
       "      <td>7.1</td>\n",
       "      <td>860K</td>\n",
       "      <td>PG-13</td>\n",
       "    </tr>\n",
       "  </tbody>\n",
       "</table>\n",
       "</div>"
      ],
      "text/plain": [
       "                                  Movie_Title  Movie_ID        Budget  \\\n",
       "0              Jumanji: Welcome to the Jungle   2283362   $90,000,000   \n",
       "1         Transformers: Revenge of the Fallen   1055369  $200,000,000   \n",
       "2  Star Wars: Episode VII - The Force Awakens   2488496  $245,000,000   \n",
       "3                                  Spider-Man    145487  $139,000,000   \n",
       "4                              Iron Man Three   1300854  $200,000,000   \n",
       "\n",
       "                                                Cast  \\\n",
       "0  Dwayne Johnson,Karen Gillan,Kevin Hart,Jack Bl...   \n",
       "1  Shia LaBeouf,Megan Fox,Josh Duhamel,Tyrese Gib...   \n",
       "2  Daisy Ridley,John Boyega,Oscar Isaac,Domhnall ...   \n",
       "3  Tobey Maguire,Kirsten Dunst,Willem Dafoe,James...   \n",
       "4  Robert Downey Jr.,Guy Pearce,Gwyneth Paltrow,D...   \n",
       "\n",
       "                                                Crew  \\\n",
       "0  Scott Rosenberg,Erik Sommers,Chris McKenna,Jak...   \n",
       "1  Ehren Kruger,Michael Bay,Roberto Orci,Alex Kur...   \n",
       "2          J.J. Abrams,Michael Arndt,Lawrence Kasdan   \n",
       "3         Sam Raimi,David Koepp,Stan Lee,Steve Ditko   \n",
       "4                   Drew Pearce,Stan Lee,Shane Black   \n",
       "\n",
       "                                             Studios                    Genre  \\\n",
       "0  Columbia Pictures,Matt Tolmach Productions,Rad...  Action,Adventure,Comedy   \n",
       "1  Dreamworks Pictures,Paramount Pictures,Tom DeS...  Action,Adventure,Sci-Fi   \n",
       "2           Lucasfilm,Bad Robot,Walt Disney Pictures  Action,Adventure,Sci-Fi   \n",
       "3  Columbia Pictures,Marvel Enterprises,Laura Zis...  Action,Adventure,Sci-Fi   \n",
       "4  Marvel Studios,Paramount Pictures,DMG Entertai...  Action,Adventure,Sci-Fi   \n",
       "\n",
       "                                            Keywords        Languages  \\\n",
       "0  jungle,adventurer,trapped in a game,action her...          English   \n",
       "1  optimus prime character,megatron character,toa...  English,Spanish   \n",
       "2  crash landing,reboot,actor reprises previous r...          English   \n",
       "3  superhero,peter parker character,ben parker ch...          English   \n",
       "4      terrorist,billionaire,human bomb,armor,rescue          English   \n",
       "\n",
       "       Countries Release_Data             Runtime Gross_worldwide  Rating  \\\n",
       "0  United States   2017-12-20   1 hour 59 minutes    $995,339,117     6.9   \n",
       "1  United States   2009-06-24  2 hours 29 minutes    $836,303,693     5.9   \n",
       "2  United States   2015-12-18  2 hours 18 minutes  $2,071,310,218     7.8   \n",
       "3  United States   2002-05-03    2 hours 1 minute    $825,025,036     7.4   \n",
       "4  United States   2013-05-03  2 hours 10 minutes  $1,215,577,205     7.1   \n",
       "\n",
       "  Rating_Count ListOfCertificate  \n",
       "0         389K             PG-13  \n",
       "1         412K             PG-13  \n",
       "2         939K             PG-13  \n",
       "3         827K             PG-13  \n",
       "4         860K             PG-13  "
      ]
     },
     "execution_count": 20,
     "metadata": {},
     "output_type": "execute_result"
    }
   ],
   "source": [
    "dataset_path = \"../dataset/\"\n",
    "data = pd.read_csv(dataset_path + \"data_joined.csv\")\n",
    "data = data.drop('Filming_Location', axis=1)\n",
    "a = data\n",
    "a.reset_index(drop=True, inplace=True)\n",
    "a.head()"
   ]
  },
  {
   "cell_type": "markdown",
   "metadata": {},
   "source": [
    "## Missing Values\n",
    "\n",
    "Check for missing values"
   ]
  },
  {
   "cell_type": "code",
   "execution_count": 21,
   "metadata": {
    "pycharm": {
     "name": "#%%\n"
    }
   },
   "outputs": [
    {
     "data": {
      "text/plain": [
       "Movie_Title             0\n",
       "Movie_ID                0\n",
       "Budget               2749\n",
       "Cast                    7\n",
       "Crew                    3\n",
       "Studios                43\n",
       "Genre                   1\n",
       "Keywords               24\n",
       "Languages              10\n",
       "Countries               5\n",
       "Release_Data            0\n",
       "Runtime                 6\n",
       "Gross_worldwide      1032\n",
       "Rating                  8\n",
       "Rating_Count            8\n",
       "ListOfCertificate    1191\n",
       "dtype: int64"
      ]
     },
     "execution_count": 21,
     "metadata": {},
     "output_type": "execute_result"
    }
   ],
   "source": [
    "a.isnull().sum()"
   ]
  },
  {
   "cell_type": "markdown",
   "metadata": {},
   "source": [
    "Drop all records missing `Gross_worldwide`"
   ]
  },
  {
   "cell_type": "code",
   "execution_count": 22,
   "metadata": {},
   "outputs": [],
   "source": [
    "listToDrop = list(a[a['Gross_worldwide'].isna()].index)\n",
    "a = a.drop(listToDrop)"
   ]
  },
  {
   "cell_type": "markdown",
   "metadata": {},
   "source": [
    "Fill missing values:\n",
    "\n",
    "| Attribute           | Fill with |\n",
    "|---------------------|-----------|\n",
    "| `Budget`            | $0        |\n",
    "| `Runtime`           | 0         |\n",
    "| `Rating`            | 5.0       |\n",
    "| `Rating_Count`      | 0K        |\n",
    "| `ListOfCertificate` | G         |\n",
    "\n",
    "Other null attributes are filled with empty string."
   ]
  },
  {
   "cell_type": "code",
   "execution_count": 23,
   "metadata": {},
   "outputs": [],
   "source": [
    "a['Budget'] = a['Budget'].fillna(\"$0\")\n",
    "a['Runtime'] = a['Runtime'].fillna(\"0\")\n",
    "a['Rating'] = a['Rating'].fillna(5.0)\n",
    "a['Rating_Count'] = a['Rating_Count'].fillna(\"0K\")\n",
    "a['ListOfCertificate'] = a['ListOfCertificate'].fillna(\"G\")\n",
    "a = a.fillna(\"\")"
   ]
  },
  {
   "cell_type": "markdown",
   "metadata": {},
   "source": [
    "Drop all records with empty attributes"
   ]
  },
  {
   "cell_type": "code",
   "execution_count": 24,
   "metadata": {},
   "outputs": [],
   "source": [
    "a = a.reset_index(drop=True)"
   ]
  },
  {
   "cell_type": "markdown",
   "metadata": {
    "id": "1MNNWNyRjAnH",
    "pycharm": {
     "name": "#%% md\n"
    }
   },
   "source": [
    "## Currency Attributes\n",
    "\n",
    "**Input**: Input dataframe with unprocessed currency\n",
    "\n",
    "**Output**: Processed one"
   ]
  },
  {
   "cell_type": "markdown",
   "metadata": {
    "id": "7Evir8lZkOYZ"
   },
   "source": [
    "Currency symbols in `Budget` and `Gross_worldwide`"
   ]
  },
  {
   "cell_type": "code",
   "execution_count": 25,
   "metadata": {
    "colab": {
     "base_uri": "https://localhost:8080/"
    },
    "id": "iv85JzoJkOGo",
    "outputId": "e085759f-1c08-483d-e8e7-32d021456b8d"
   },
   "outputs": [
    {
     "name": "stdout",
     "output_type": "stream",
     "text": [
      "{'$', '€'}\n",
      "{'$'}\n"
     ]
    }
   ],
   "source": [
    "currency = [str(s)[0] for s in a['Budget'].unique()]\n",
    "print(set(currency))\n",
    "currency = [str(s)[0] for s in a['Gross_worldwide'].unique()]\n",
    "print(set(currency))"
   ]
  },
  {
   "cell_type": "markdown",
   "metadata": {
    "id": "Ss0l11zRkXVR"
   },
   "source": [
    "Eliminate `$`,`€` and `,` in money string and convert the string to integer"
   ]
  },
  {
   "cell_type": "code",
   "execution_count": 26,
   "metadata": {
    "id": "tM7xMOrNjAnI",
    "pycharm": {
     "name": "#%%\n"
    }
   },
   "outputs": [],
   "source": [
    "def parse_currency(before_parsed):\n",
    "    if '$' in before_parsed:\n",
    "        after_parsed = int(before_parsed.strip('$').replace(',', \"\"))\n",
    "    else:\n",
    "        after_parsed = int(int(before_parsed.strip('€').replace(',', \"\")) * 1.14)\n",
    "    return after_parsed"
   ]
  },
  {
   "cell_type": "code",
   "execution_count": 27,
   "metadata": {
    "id": "2Vd4NFiQkou2"
   },
   "outputs": [
    {
     "data": {
      "text/html": [
       "<div>\n",
       "<style scoped>\n",
       "    .dataframe tbody tr th:only-of-type {\n",
       "        vertical-align: middle;\n",
       "    }\n",
       "\n",
       "    .dataframe tbody tr th {\n",
       "        vertical-align: top;\n",
       "    }\n",
       "\n",
       "    .dataframe thead th {\n",
       "        text-align: right;\n",
       "    }\n",
       "</style>\n",
       "<table border=\"1\" class=\"dataframe\">\n",
       "  <thead>\n",
       "    <tr style=\"text-align: right;\">\n",
       "      <th></th>\n",
       "      <th>Movie_Title</th>\n",
       "      <th>Movie_ID</th>\n",
       "      <th>Budget</th>\n",
       "      <th>Cast</th>\n",
       "      <th>Crew</th>\n",
       "      <th>Studios</th>\n",
       "      <th>Genre</th>\n",
       "      <th>Keywords</th>\n",
       "      <th>Languages</th>\n",
       "      <th>Countries</th>\n",
       "      <th>Release_Data</th>\n",
       "      <th>Runtime</th>\n",
       "      <th>Gross_worldwide</th>\n",
       "      <th>Rating</th>\n",
       "      <th>Rating_Count</th>\n",
       "      <th>ListOfCertificate</th>\n",
       "    </tr>\n",
       "  </thead>\n",
       "  <tbody>\n",
       "    <tr>\n",
       "      <th>0</th>\n",
       "      <td>Jumanji: Welcome to the Jungle</td>\n",
       "      <td>2283362</td>\n",
       "      <td>90000000</td>\n",
       "      <td>Dwayne Johnson,Karen Gillan,Kevin Hart,Jack Bl...</td>\n",
       "      <td>Scott Rosenberg,Erik Sommers,Chris McKenna,Jak...</td>\n",
       "      <td>Columbia Pictures,Matt Tolmach Productions,Rad...</td>\n",
       "      <td>Action,Adventure,Comedy</td>\n",
       "      <td>jungle,adventurer,trapped in a game,action her...</td>\n",
       "      <td>English</td>\n",
       "      <td>United States</td>\n",
       "      <td>2017-12-20</td>\n",
       "      <td>1 hour 59 minutes</td>\n",
       "      <td>995339117</td>\n",
       "      <td>6.9</td>\n",
       "      <td>389K</td>\n",
       "      <td>PG-13</td>\n",
       "    </tr>\n",
       "    <tr>\n",
       "      <th>1</th>\n",
       "      <td>Transformers: Revenge of the Fallen</td>\n",
       "      <td>1055369</td>\n",
       "      <td>200000000</td>\n",
       "      <td>Shia LaBeouf,Megan Fox,Josh Duhamel,Tyrese Gib...</td>\n",
       "      <td>Ehren Kruger,Michael Bay,Roberto Orci,Alex Kur...</td>\n",
       "      <td>Dreamworks Pictures,Paramount Pictures,Tom DeS...</td>\n",
       "      <td>Action,Adventure,Sci-Fi</td>\n",
       "      <td>optimus prime character,megatron character,toa...</td>\n",
       "      <td>English,Spanish</td>\n",
       "      <td>United States</td>\n",
       "      <td>2009-06-24</td>\n",
       "      <td>2 hours 29 minutes</td>\n",
       "      <td>836303693</td>\n",
       "      <td>5.9</td>\n",
       "      <td>412K</td>\n",
       "      <td>PG-13</td>\n",
       "    </tr>\n",
       "    <tr>\n",
       "      <th>2</th>\n",
       "      <td>Star Wars: Episode VII - The Force Awakens</td>\n",
       "      <td>2488496</td>\n",
       "      <td>245000000</td>\n",
       "      <td>Daisy Ridley,John Boyega,Oscar Isaac,Domhnall ...</td>\n",
       "      <td>J.J. Abrams,Michael Arndt,Lawrence Kasdan</td>\n",
       "      <td>Lucasfilm,Bad Robot,Walt Disney Pictures</td>\n",
       "      <td>Action,Adventure,Sci-Fi</td>\n",
       "      <td>crash landing,reboot,actor reprises previous r...</td>\n",
       "      <td>English</td>\n",
       "      <td>United States</td>\n",
       "      <td>2015-12-18</td>\n",
       "      <td>2 hours 18 minutes</td>\n",
       "      <td>2071310218</td>\n",
       "      <td>7.8</td>\n",
       "      <td>939K</td>\n",
       "      <td>PG-13</td>\n",
       "    </tr>\n",
       "    <tr>\n",
       "      <th>3</th>\n",
       "      <td>Spider-Man</td>\n",
       "      <td>145487</td>\n",
       "      <td>139000000</td>\n",
       "      <td>Tobey Maguire,Kirsten Dunst,Willem Dafoe,James...</td>\n",
       "      <td>Sam Raimi,David Koepp,Stan Lee,Steve Ditko</td>\n",
       "      <td>Columbia Pictures,Marvel Enterprises,Laura Zis...</td>\n",
       "      <td>Action,Adventure,Sci-Fi</td>\n",
       "      <td>superhero,peter parker character,ben parker ch...</td>\n",
       "      <td>English</td>\n",
       "      <td>United States</td>\n",
       "      <td>2002-05-03</td>\n",
       "      <td>2 hours 1 minute</td>\n",
       "      <td>825025036</td>\n",
       "      <td>7.4</td>\n",
       "      <td>827K</td>\n",
       "      <td>PG-13</td>\n",
       "    </tr>\n",
       "    <tr>\n",
       "      <th>4</th>\n",
       "      <td>Iron Man Three</td>\n",
       "      <td>1300854</td>\n",
       "      <td>200000000</td>\n",
       "      <td>Robert Downey Jr.,Guy Pearce,Gwyneth Paltrow,D...</td>\n",
       "      <td>Drew Pearce,Stan Lee,Shane Black</td>\n",
       "      <td>Marvel Studios,Paramount Pictures,DMG Entertai...</td>\n",
       "      <td>Action,Adventure,Sci-Fi</td>\n",
       "      <td>terrorist,billionaire,human bomb,armor,rescue</td>\n",
       "      <td>English</td>\n",
       "      <td>United States</td>\n",
       "      <td>2013-05-03</td>\n",
       "      <td>2 hours 10 minutes</td>\n",
       "      <td>1215577205</td>\n",
       "      <td>7.1</td>\n",
       "      <td>860K</td>\n",
       "      <td>PG-13</td>\n",
       "    </tr>\n",
       "  </tbody>\n",
       "</table>\n",
       "</div>"
      ],
      "text/plain": [
       "                                  Movie_Title  Movie_ID     Budget  \\\n",
       "0              Jumanji: Welcome to the Jungle   2283362   90000000   \n",
       "1         Transformers: Revenge of the Fallen   1055369  200000000   \n",
       "2  Star Wars: Episode VII - The Force Awakens   2488496  245000000   \n",
       "3                                  Spider-Man    145487  139000000   \n",
       "4                              Iron Man Three   1300854  200000000   \n",
       "\n",
       "                                                Cast  \\\n",
       "0  Dwayne Johnson,Karen Gillan,Kevin Hart,Jack Bl...   \n",
       "1  Shia LaBeouf,Megan Fox,Josh Duhamel,Tyrese Gib...   \n",
       "2  Daisy Ridley,John Boyega,Oscar Isaac,Domhnall ...   \n",
       "3  Tobey Maguire,Kirsten Dunst,Willem Dafoe,James...   \n",
       "4  Robert Downey Jr.,Guy Pearce,Gwyneth Paltrow,D...   \n",
       "\n",
       "                                                Crew  \\\n",
       "0  Scott Rosenberg,Erik Sommers,Chris McKenna,Jak...   \n",
       "1  Ehren Kruger,Michael Bay,Roberto Orci,Alex Kur...   \n",
       "2          J.J. Abrams,Michael Arndt,Lawrence Kasdan   \n",
       "3         Sam Raimi,David Koepp,Stan Lee,Steve Ditko   \n",
       "4                   Drew Pearce,Stan Lee,Shane Black   \n",
       "\n",
       "                                             Studios                    Genre  \\\n",
       "0  Columbia Pictures,Matt Tolmach Productions,Rad...  Action,Adventure,Comedy   \n",
       "1  Dreamworks Pictures,Paramount Pictures,Tom DeS...  Action,Adventure,Sci-Fi   \n",
       "2           Lucasfilm,Bad Robot,Walt Disney Pictures  Action,Adventure,Sci-Fi   \n",
       "3  Columbia Pictures,Marvel Enterprises,Laura Zis...  Action,Adventure,Sci-Fi   \n",
       "4  Marvel Studios,Paramount Pictures,DMG Entertai...  Action,Adventure,Sci-Fi   \n",
       "\n",
       "                                            Keywords        Languages  \\\n",
       "0  jungle,adventurer,trapped in a game,action her...          English   \n",
       "1  optimus prime character,megatron character,toa...  English,Spanish   \n",
       "2  crash landing,reboot,actor reprises previous r...          English   \n",
       "3  superhero,peter parker character,ben parker ch...          English   \n",
       "4      terrorist,billionaire,human bomb,armor,rescue          English   \n",
       "\n",
       "       Countries Release_Data             Runtime  Gross_worldwide  Rating  \\\n",
       "0  United States   2017-12-20   1 hour 59 minutes        995339117     6.9   \n",
       "1  United States   2009-06-24  2 hours 29 minutes        836303693     5.9   \n",
       "2  United States   2015-12-18  2 hours 18 minutes       2071310218     7.8   \n",
       "3  United States   2002-05-03    2 hours 1 minute        825025036     7.4   \n",
       "4  United States   2013-05-03  2 hours 10 minutes       1215577205     7.1   \n",
       "\n",
       "  Rating_Count ListOfCertificate  \n",
       "0         389K             PG-13  \n",
       "1         412K             PG-13  \n",
       "2         939K             PG-13  \n",
       "3         827K             PG-13  \n",
       "4         860K             PG-13  "
      ]
     },
     "execution_count": 27,
     "metadata": {},
     "output_type": "execute_result"
    }
   ],
   "source": [
    "a['Budget'] = a['Budget'].apply(parse_currency)\n",
    "a['Gross_worldwide'] = a['Gross_worldwide'].apply(parse_currency)\n",
    "a.head()"
   ]
  },
  {
   "cell_type": "markdown",
   "metadata": {
    "id": "exTJnmaDjAnJ"
   },
   "source": [
    "## Multivalued Attributes\n",
    "\n",
    "Multivalued data is seperated by comma `,`\n",
    "\n",
    "`Cast`, `Genre`, `Studios`, `ListOfCertificate`, `Keywords`, `Languages`, `Countries` are multivalued so we convert them to `List` data structure"
   ]
  },
  {
   "cell_type": "code",
   "execution_count": 28,
   "metadata": {
    "id": "196tbNwKlTzf"
   },
   "outputs": [],
   "source": [
    "def parse_multi_value(field_value):\n",
    "    array_value = field_value.split(',')\n",
    "    if '' in array_value:\n",
    "        return []\n",
    "    return array_value"
   ]
  },
  {
   "cell_type": "code",
   "execution_count": 29,
   "metadata": {
    "id": "q_df6aHWlXNT"
   },
   "outputs": [],
   "source": [
    "cols = ['Cast', 'Genre', 'Studios', 'ListOfCertificate', 'Keywords', 'Languages', 'Countries', 'Crew']\n",
    "for col in cols:\n",
    "    a[col] = a[col].apply(parse_multi_value)"
   ]
  },
  {
   "cell_type": "markdown",
   "metadata": {},
   "source": [
    "Note!\n",
    "After change to list we will need this function this to load again in another part"
   ]
  },
  {
   "cell_type": "code",
   "execution_count": 30,
   "metadata": {},
   "outputs": [
    {
     "data": {
      "text/plain": [
       "\"\\n\\nimport ast\\ncols =['Cast', 'Genre', 'Studios', 'ListOfCertificate','Keywords', 'Languages', 'Countries']\\nfor col in cols:\\n    a[col]=a[col].apply(ast.literal_eval)\\n    \\n\""
      ]
     },
     "execution_count": 30,
     "metadata": {},
     "output_type": "execute_result"
    }
   ],
   "source": [
    "\"\"\"\n",
    "\n",
    "import ast\n",
    "cols =['Cast', 'Genre', 'Studios', 'ListOfCertificate','Keywords', 'Languages', 'Countries']\n",
    "for col in cols:\n",
    "    a[col]=a[col].apply(ast.literal_eval)\n",
    "    \n",
    "\"\"\""
   ]
  },
  {
   "cell_type": "markdown",
   "metadata": {},
   "source": [
    "Process wrong values in `ListOfCertificate`"
   ]
  },
  {
   "cell_type": "code",
   "execution_count": 31,
   "metadata": {},
   "outputs": [],
   "source": [
    "def get_unique_certificates(dataframe):\n",
    "    certificates = set()\n",
    "    for i in dataframe['ListOfCertificate']:\n",
    "        for y in i:\n",
    "            certificates.add(y)\n",
    "    return certificates"
   ]
  },
  {
   "cell_type": "code",
   "execution_count": 32,
   "metadata": {},
   "outputs": [
    {
     "data": {
      "text/plain": [
       "{'G', 'GP', 'M', 'M/PG', 'NC-17', 'PG', 'PG-13', 'R', 'X'}"
      ]
     },
     "execution_count": 32,
     "metadata": {},
     "output_type": "execute_result"
    }
   ],
   "source": [
    "get_unique_certificates(a)"
   ]
  },
  {
   "cell_type": "markdown",
   "metadata": {},
   "source": [
    "Some of those certificates are out of date and does not follow MPAA's newest policy. They should be replaced:\n",
    "\n",
    "- M, GP and M/PG replaced by PG\n",
    "\n",
    "- X replaced by NC-17"
   ]
  },
  {
   "cell_type": "code",
   "execution_count": 33,
   "metadata": {},
   "outputs": [],
   "source": [
    "def update_certificates(certificates):\n",
    "    new_certificates = set()\n",
    "    type1 = ['M', 'GP', 'M/PG']\n",
    "    type2 = ['X']\n",
    "    for i in certificates:\n",
    "        if i in type1:\n",
    "            new_certificates.add('PG')\n",
    "        elif i in type2:\n",
    "            new_certificates.add('NC-17')\n",
    "        else:\n",
    "            new_certificates.add(i)\n",
    "    return list(new_certificates)"
   ]
  },
  {
   "cell_type": "code",
   "execution_count": 34,
   "metadata": {},
   "outputs": [
    {
     "data": {
      "text/plain": [
       "{'G', 'NC-17', 'PG', 'PG-13', 'R'}"
      ]
     },
     "execution_count": 34,
     "metadata": {},
     "output_type": "execute_result"
    }
   ],
   "source": [
    "a['ListOfCertificate'] = a['ListOfCertificate'].apply(update_certificates)\n",
    "get_unique_certificates(a)"
   ]
  },
  {
   "cell_type": "markdown",
   "metadata": {
    "id": "N4TygV3wl6PC"
   },
   "source": [
    "## Multivalued attributes with gross and count\n",
    "\n",
    "1. Input\n",
    "- `dataframe`: Dataframe need to be process\n",
    "- `col_name`: Name of the column to process, `Cast`, `Genre` and `Studios` for example\n",
    "\n",
    "2. Output\n",
    "- Output: Dataframe contains information related to the columns combined with Money and Count"
   ]
  },
  {
   "cell_type": "code",
   "execution_count": 35,
   "metadata": {
    "id": "cpp79IVTjAnK",
    "pycharm": {
     "name": "#%%\n"
    }
   },
   "outputs": [],
   "source": [
    "def parseWithMoneyAndCount(dataframe, col_name):\n",
    "    result = []\n",
    "    count = []\n",
    "    gross = []\n",
    "    for i, record in enumerate(dataframe[col_name]):\n",
    "        for x in record:\n",
    "            # Save results to corresponding array\n",
    "            result.append(x)\n",
    "            gross.append(dataframe['Gross_worldwide'][i])\n",
    "            count.append(1)\n",
    "    # Make dataframe\n",
    "    t = pd.DataFrame({col_name: result, 'Money': gross, 'Count': count})\n",
    "    # Remove duplicates and sum corresponding columns\n",
    "    result = t.groupby(col_name).sum()\n",
    "    # Rearrange dataframe\n",
    "    sort_by_money = result.sort_values('Money', ascending=False)\n",
    "    return sort_by_money"
   ]
  },
  {
   "cell_type": "markdown",
   "metadata": {
    "id": "eNtvWVxpjAnQ"
   },
   "source": [
    "# Normalize time data\n",
    "### 1.  Runtime data in hours-minutes\n",
    "Function to convert hours to minutes"
   ]
  },
  {
   "cell_type": "code",
   "execution_count": 36,
   "metadata": {
    "id": "2bgDWlBijAnQ",
    "scrolled": true
   },
   "outputs": [],
   "source": [
    "def convertTime(time):\n",
    "    time = str(time)\n",
    "    time = time.replace(\" \", \"\")\n",
    "    if \"hour\" in time:\n",
    "        hours = 0\n",
    "        if \"hours\" in time:\n",
    "            hours = int(time[0]) * 60\n",
    "            after_eliminate_hour = time.replace(\"hours\", \"\")\n",
    "        else:\n",
    "            hours = 60\n",
    "            after_eliminate_hour = time.replace(\"hour\", \"\")\n",
    "        minutes = 0\n",
    "        if \"minute\" in after_eliminate_hour:\n",
    "            if \"minutes\" in after_eliminate_hour:\n",
    "                minutes = int(after_eliminate_hour.replace(\"minutes\", \"\")[1:])\n",
    "            else:\n",
    "                minutes = 1\n",
    "        return int(hours) + int(minutes)\n",
    "    else:\n",
    "        return int(time.replace(\"minutes\", \"\"))"
   ]
  },
  {
   "cell_type": "markdown",
   "metadata": {
    "id": "On2HmskbnVHB"
   },
   "source": [
    "# Normalize time data for the dataset"
   ]
  },
  {
   "cell_type": "code",
   "execution_count": 37,
   "metadata": {
    "id": "pnJVx-K3nWM3"
   },
   "outputs": [],
   "source": [
    "a['Runtime'] = a['Runtime'].apply(convertTime)"
   ]
  },
  {
   "cell_type": "code",
   "execution_count": 38,
   "metadata": {},
   "outputs": [
    {
     "data": {
      "text/plain": [
       "100    255\n",
       "97     253\n",
       "95     238\n",
       "90     236\n",
       "96     235\n",
       "      ... \n",
       "271      1\n",
       "357      1\n",
       "185      1\n",
       "207      1\n",
       "194      1\n",
       "Name: Runtime, Length: 158, dtype: int64"
      ]
     },
     "execution_count": 38,
     "metadata": {},
     "output_type": "execute_result"
    }
   ],
   "source": [
    "a['Runtime'].value_counts()"
   ]
  },
  {
   "cell_type": "markdown",
   "metadata": {
    "id": "6PRG4fG1jAnQ"
   },
   "source": [
    "### 2. Release_date in Day, Month & Year\n",
    "Split Day, Month & Year in each Movie"
   ]
  },
  {
   "cell_type": "code",
   "execution_count": 39,
   "metadata": {
    "id": "t4XQZGCujAnR",
    "scrolled": true
   },
   "outputs": [],
   "source": [
    "a['Release_Data'] = pd.to_datetime(a['Release_Data'], format='%Y-%m-%d')\n",
    "a['Release_Year'] = a['Release_Data'].apply(lambda x: x.year)\n",
    "a['Release_Month'] = a['Release_Data'].apply(lambda x: x.month)\n",
    "a['Release_Day'] = a['Release_Data'].apply(lambda x: x.day)"
   ]
  },
  {
   "cell_type": "markdown",
   "metadata": {
    "id": "HmgEZbJCjAnR"
   },
   "source": [
    "## Process Rating và Rating_Count\n",
    "Convert rating & rating_count to float data type"
   ]
  },
  {
   "cell_type": "code",
   "execution_count": 40,
   "metadata": {
    "id": "ppHXAhfKndcv"
   },
   "outputs": [],
   "source": [
    "def convertRatingCount(rating_count):\n",
    "    rate = str(rating_count)\n",
    "    if 'M' in rate:\n",
    "        return int(float(rate.replace(\"M\", \"\")) * 1000000)\n",
    "    elif 'K' in rate:\n",
    "        return int(float(rate.replace(\"K\", \"\")) * 1000)\n",
    "    else:\n",
    "        return int(rate)"
   ]
  },
  {
   "cell_type": "code",
   "execution_count": 41,
   "metadata": {
    "id": "rnwq8LIujAnR"
   },
   "outputs": [],
   "source": [
    "a['Rating_Count'] = a['Rating_Count'].apply(convertRatingCount)\n",
    "a['Rating'] = a['Rating'].astype(float)"
   ]
  },
  {
   "cell_type": "markdown",
   "metadata": {},
   "source": [
    "## Process attributes with 0 value"
   ]
  },
  {
   "cell_type": "markdown",
   "metadata": {},
   "source": [
    "Fill 0 values:\n",
    "\n",
    "| Attribute           | Fill with |\n",
    "|---------------------|-----------|\n",
    "| `Budget`            | Min       |\n",
    "| `Runtime`           | Mean      |"
   ]
  },
  {
   "cell_type": "code",
   "execution_count": 42,
   "metadata": {},
   "outputs": [],
   "source": [
    "## Find Budget 0\n",
    "indexNZero = list(a[a['Budget'] != 0].index)\n",
    "indexZero = list(a[a['Budget'] == 0].index)\n",
    "min = np.min(list(a.iloc[indexNZero]['Budget']))\n",
    "a['Budget'] = a['Budget'].apply(lambda x: min if x == 0 else x)\n",
    "## Find Runtime 0\n",
    "indexNZero = list(a[a['Runtime'] != 0].index)\n",
    "indexZero = list(a[a['Runtime'] == 0].index)\n",
    "mean = np.mean(list(a.iloc[indexNZero]['Runtime']))\n",
    "a['Runtime'] = a['Runtime'].apply(lambda x: mean if x == 0 else x)"
   ]
  },
  {
   "cell_type": "markdown",
   "metadata": {
    "id": "T_RnMX-ujAnT"
   },
   "source": [
    "## Xuất ra file CSV"
   ]
  },
  {
   "cell_type": "code",
   "execution_count": 44,
   "metadata": {
    "id": "GRYz9GKzjAnT",
    "pycharm": {
     "name": "#%%\n"
    }
   },
   "outputs": [],
   "source": [
    "a.to_csv(\"../dataset/processed/cleaned_data.csv\", index=False)"
   ]
  },
  {
   "cell_type": "code",
   "execution_count": null,
   "metadata": {},
   "outputs": [],
   "source": []
  }
 ],
 "metadata": {
  "colab": {
   "collapsed_sections": [],
   "name": "Data Cleaning.ipynb",
   "provenance": []
  },
  "kernelspec": {
   "display_name": "Python 3 (ipykernel)",
   "language": "python",
   "name": "python3"
  },
  "language_info": {
   "codemirror_mode": {
    "name": "ipython",
    "version": 3
   },
   "file_extension": ".py",
   "mimetype": "text/x-python",
   "name": "python",
   "nbconvert_exporter": "python",
   "pygments_lexer": "ipython3",
   "version": "3.9.13"
  }
 },
 "nbformat": 4,
 "nbformat_minor": 1
}
